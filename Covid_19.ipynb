{
  "nbformat": 4,
  "nbformat_minor": 0,
  "metadata": {
    "colab": {
      "name": "Covid-19.ipynb",
      "provenance": [],
      "collapsed_sections": []
    },
    "kernelspec": {
      "name": "python3",
      "display_name": "Python 3"
    }
  },
  "cells": [
    {
      "cell_type": "code",
      "metadata": {
        "id": "MPzr_leaodkt",
        "colab_type": "code",
        "colab": {}
      },
      "source": [
        "import pandas as pd\n",
        "df = pd.read_csv('https://raw.githubusercontent.com/datasets/covid-19/master/data/countries-aggregated.csv',error_bad_lines=False)"
      ],
      "execution_count": 0,
      "outputs": []
    },
    {
      "cell_type": "code",
      "metadata": {
        "id": "60PH2RL-o2NT",
        "colab_type": "code",
        "outputId": "6d4c5310-d154-4803-c8f8-cf48064f6943",
        "colab": {
          "base_uri": "https://localhost:8080/",
          "height": 204
        }
      },
      "source": [
        "df.head()"
      ],
      "execution_count": 0,
      "outputs": [
        {
          "output_type": "execute_result",
          "data": {
            "text/html": [
              "<div>\n",
              "<style scoped>\n",
              "    .dataframe tbody tr th:only-of-type {\n",
              "        vertical-align: middle;\n",
              "    }\n",
              "\n",
              "    .dataframe tbody tr th {\n",
              "        vertical-align: top;\n",
              "    }\n",
              "\n",
              "    .dataframe thead th {\n",
              "        text-align: right;\n",
              "    }\n",
              "</style>\n",
              "<table border=\"1\" class=\"dataframe\">\n",
              "  <thead>\n",
              "    <tr style=\"text-align: right;\">\n",
              "      <th></th>\n",
              "      <th>Date</th>\n",
              "      <th>Country</th>\n",
              "      <th>Confirmed</th>\n",
              "      <th>Recovered</th>\n",
              "      <th>Deaths</th>\n",
              "    </tr>\n",
              "  </thead>\n",
              "  <tbody>\n",
              "    <tr>\n",
              "      <th>0</th>\n",
              "      <td>2020-01-22</td>\n",
              "      <td>Afghanistan</td>\n",
              "      <td>0</td>\n",
              "      <td>0</td>\n",
              "      <td>0</td>\n",
              "    </tr>\n",
              "    <tr>\n",
              "      <th>1</th>\n",
              "      <td>2020-01-22</td>\n",
              "      <td>Albania</td>\n",
              "      <td>0</td>\n",
              "      <td>0</td>\n",
              "      <td>0</td>\n",
              "    </tr>\n",
              "    <tr>\n",
              "      <th>2</th>\n",
              "      <td>2020-01-22</td>\n",
              "      <td>Algeria</td>\n",
              "      <td>0</td>\n",
              "      <td>0</td>\n",
              "      <td>0</td>\n",
              "    </tr>\n",
              "    <tr>\n",
              "      <th>3</th>\n",
              "      <td>2020-01-22</td>\n",
              "      <td>Andorra</td>\n",
              "      <td>0</td>\n",
              "      <td>0</td>\n",
              "      <td>0</td>\n",
              "    </tr>\n",
              "    <tr>\n",
              "      <th>4</th>\n",
              "      <td>2020-01-22</td>\n",
              "      <td>Angola</td>\n",
              "      <td>0</td>\n",
              "      <td>0</td>\n",
              "      <td>0</td>\n",
              "    </tr>\n",
              "  </tbody>\n",
              "</table>\n",
              "</div>"
            ],
            "text/plain": [
              "         Date      Country  Confirmed  Recovered  Deaths\n",
              "0  2020-01-22  Afghanistan          0          0       0\n",
              "1  2020-01-22      Albania          0          0       0\n",
              "2  2020-01-22      Algeria          0          0       0\n",
              "3  2020-01-22      Andorra          0          0       0\n",
              "4  2020-01-22       Angola          0          0       0"
            ]
          },
          "metadata": {
            "tags": []
          },
          "execution_count": 67
        }
      ]
    },
    {
      "cell_type": "code",
      "metadata": {
        "id": "qkh0IPqKurmD",
        "colab_type": "code",
        "colab": {}
      },
      "source": [
        "df['Date'] = pd.to_datetime(df['Date'])"
      ],
      "execution_count": 0,
      "outputs": []
    },
    {
      "cell_type": "code",
      "metadata": {
        "id": "xZX8tU8RpTu-",
        "colab_type": "code",
        "outputId": "d71a542d-608a-4e30-81e5-ebc2eef392de",
        "colab": {
          "base_uri": "https://localhost:8080/",
          "height": 258
        }
      },
      "source": [
        "world = df.groupby('Date')['Date','Confirmed','Recovered','Deaths'].sum().reset_index()\n",
        "world.head()"
      ],
      "execution_count": 0,
      "outputs": [
        {
          "output_type": "stream",
          "text": [
            "/usr/local/lib/python3.6/dist-packages/ipykernel_launcher.py:1: FutureWarning: Indexing with multiple keys (implicitly converted to a tuple of keys) will be deprecated, use a list instead.\n",
            "  \"\"\"Entry point for launching an IPython kernel.\n"
          ],
          "name": "stderr"
        },
        {
          "output_type": "execute_result",
          "data": {
            "text/html": [
              "<div>\n",
              "<style scoped>\n",
              "    .dataframe tbody tr th:only-of-type {\n",
              "        vertical-align: middle;\n",
              "    }\n",
              "\n",
              "    .dataframe tbody tr th {\n",
              "        vertical-align: top;\n",
              "    }\n",
              "\n",
              "    .dataframe thead th {\n",
              "        text-align: right;\n",
              "    }\n",
              "</style>\n",
              "<table border=\"1\" class=\"dataframe\">\n",
              "  <thead>\n",
              "    <tr style=\"text-align: right;\">\n",
              "      <th></th>\n",
              "      <th>Date</th>\n",
              "      <th>Confirmed</th>\n",
              "      <th>Recovered</th>\n",
              "      <th>Deaths</th>\n",
              "    </tr>\n",
              "  </thead>\n",
              "  <tbody>\n",
              "    <tr>\n",
              "      <th>0</th>\n",
              "      <td>2020-01-22</td>\n",
              "      <td>555</td>\n",
              "      <td>28</td>\n",
              "      <td>17</td>\n",
              "    </tr>\n",
              "    <tr>\n",
              "      <th>1</th>\n",
              "      <td>2020-01-23</td>\n",
              "      <td>654</td>\n",
              "      <td>30</td>\n",
              "      <td>18</td>\n",
              "    </tr>\n",
              "    <tr>\n",
              "      <th>2</th>\n",
              "      <td>2020-01-24</td>\n",
              "      <td>941</td>\n",
              "      <td>36</td>\n",
              "      <td>26</td>\n",
              "    </tr>\n",
              "    <tr>\n",
              "      <th>3</th>\n",
              "      <td>2020-01-25</td>\n",
              "      <td>1434</td>\n",
              "      <td>39</td>\n",
              "      <td>42</td>\n",
              "    </tr>\n",
              "    <tr>\n",
              "      <th>4</th>\n",
              "      <td>2020-01-26</td>\n",
              "      <td>2118</td>\n",
              "      <td>52</td>\n",
              "      <td>56</td>\n",
              "    </tr>\n",
              "  </tbody>\n",
              "</table>\n",
              "</div>"
            ],
            "text/plain": [
              "        Date  Confirmed  Recovered  Deaths\n",
              "0 2020-01-22        555         28      17\n",
              "1 2020-01-23        654         30      18\n",
              "2 2020-01-24        941         36      26\n",
              "3 2020-01-25       1434         39      42\n",
              "4 2020-01-26       2118         52      56"
            ]
          },
          "metadata": {
            "tags": []
          },
          "execution_count": 69
        }
      ]
    },
    {
      "cell_type": "code",
      "metadata": {
        "id": "Dba6ZHvypkz8",
        "colab_type": "code",
        "colab": {}
      },
      "source": [
        "world['Recovery_rate'] = (world['Recovered']/world['Confirmed'])*100\n",
        "world['Mortality_rate'] = (world['Deaths']/world['Confirmed'])*100"
      ],
      "execution_count": 0,
      "outputs": []
    },
    {
      "cell_type": "code",
      "metadata": {
        "id": "JT1wTMWmpzu6",
        "colab_type": "code",
        "outputId": "ddb083f8-d61d-4564-ca03-13eb9821e1aa",
        "colab": {
          "base_uri": "https://localhost:8080/",
          "height": 204
        }
      },
      "source": [
        "world.head()"
      ],
      "execution_count": 0,
      "outputs": [
        {
          "output_type": "execute_result",
          "data": {
            "text/html": [
              "<div>\n",
              "<style scoped>\n",
              "    .dataframe tbody tr th:only-of-type {\n",
              "        vertical-align: middle;\n",
              "    }\n",
              "\n",
              "    .dataframe tbody tr th {\n",
              "        vertical-align: top;\n",
              "    }\n",
              "\n",
              "    .dataframe thead th {\n",
              "        text-align: right;\n",
              "    }\n",
              "</style>\n",
              "<table border=\"1\" class=\"dataframe\">\n",
              "  <thead>\n",
              "    <tr style=\"text-align: right;\">\n",
              "      <th></th>\n",
              "      <th>Date</th>\n",
              "      <th>Confirmed</th>\n",
              "      <th>Recovered</th>\n",
              "      <th>Deaths</th>\n",
              "      <th>Recovery_rate</th>\n",
              "      <th>Mortality_rate</th>\n",
              "    </tr>\n",
              "  </thead>\n",
              "  <tbody>\n",
              "    <tr>\n",
              "      <th>0</th>\n",
              "      <td>2020-01-22</td>\n",
              "      <td>555</td>\n",
              "      <td>28</td>\n",
              "      <td>17</td>\n",
              "      <td>5.045045</td>\n",
              "      <td>3.063063</td>\n",
              "    </tr>\n",
              "    <tr>\n",
              "      <th>1</th>\n",
              "      <td>2020-01-23</td>\n",
              "      <td>654</td>\n",
              "      <td>30</td>\n",
              "      <td>18</td>\n",
              "      <td>4.587156</td>\n",
              "      <td>2.752294</td>\n",
              "    </tr>\n",
              "    <tr>\n",
              "      <th>2</th>\n",
              "      <td>2020-01-24</td>\n",
              "      <td>941</td>\n",
              "      <td>36</td>\n",
              "      <td>26</td>\n",
              "      <td>3.825717</td>\n",
              "      <td>2.763018</td>\n",
              "    </tr>\n",
              "    <tr>\n",
              "      <th>3</th>\n",
              "      <td>2020-01-25</td>\n",
              "      <td>1434</td>\n",
              "      <td>39</td>\n",
              "      <td>42</td>\n",
              "      <td>2.719665</td>\n",
              "      <td>2.928870</td>\n",
              "    </tr>\n",
              "    <tr>\n",
              "      <th>4</th>\n",
              "      <td>2020-01-26</td>\n",
              "      <td>2118</td>\n",
              "      <td>52</td>\n",
              "      <td>56</td>\n",
              "      <td>2.455146</td>\n",
              "      <td>2.644004</td>\n",
              "    </tr>\n",
              "  </tbody>\n",
              "</table>\n",
              "</div>"
            ],
            "text/plain": [
              "        Date  Confirmed  Recovered  Deaths  Recovery_rate  Mortality_rate\n",
              "0 2020-01-22        555         28      17       5.045045        3.063063\n",
              "1 2020-01-23        654         30      18       4.587156        2.752294\n",
              "2 2020-01-24        941         36      26       3.825717        2.763018\n",
              "3 2020-01-25       1434         39      42       2.719665        2.928870\n",
              "4 2020-01-26       2118         52      56       2.455146        2.644004"
            ]
          },
          "metadata": {
            "tags": []
          },
          "execution_count": 71
        }
      ]
    },
    {
      "cell_type": "code",
      "metadata": {
        "id": "ijZX8BheqApA",
        "colab_type": "code",
        "outputId": "29ad91ba-3315-4e09-ec9c-4275f569da1d",
        "colab": {
          "base_uri": "https://localhost:8080/",
          "height": 204
        }
      },
      "source": [
        "world.tail()"
      ],
      "execution_count": 0,
      "outputs": [
        {
          "output_type": "execute_result",
          "data": {
            "text/html": [
              "<div>\n",
              "<style scoped>\n",
              "    .dataframe tbody tr th:only-of-type {\n",
              "        vertical-align: middle;\n",
              "    }\n",
              "\n",
              "    .dataframe tbody tr th {\n",
              "        vertical-align: top;\n",
              "    }\n",
              "\n",
              "    .dataframe thead th {\n",
              "        text-align: right;\n",
              "    }\n",
              "</style>\n",
              "<table border=\"1\" class=\"dataframe\">\n",
              "  <thead>\n",
              "    <tr style=\"text-align: right;\">\n",
              "      <th></th>\n",
              "      <th>Date</th>\n",
              "      <th>Confirmed</th>\n",
              "      <th>Recovered</th>\n",
              "      <th>Deaths</th>\n",
              "      <th>Recovery_rate</th>\n",
              "      <th>Mortality_rate</th>\n",
              "    </tr>\n",
              "  </thead>\n",
              "  <tbody>\n",
              "    <tr>\n",
              "      <th>115</th>\n",
              "      <td>2020-05-16</td>\n",
              "      <td>4634068</td>\n",
              "      <td>1693197</td>\n",
              "      <td>311781</td>\n",
              "      <td>36.538027</td>\n",
              "      <td>6.728020</td>\n",
              "    </tr>\n",
              "    <tr>\n",
              "      <th>116</th>\n",
              "      <td>2020-05-17</td>\n",
              "      <td>4713620</td>\n",
              "      <td>1733963</td>\n",
              "      <td>315185</td>\n",
              "      <td>36.786228</td>\n",
              "      <td>6.686687</td>\n",
              "    </tr>\n",
              "    <tr>\n",
              "      <th>117</th>\n",
              "      <td>2020-05-18</td>\n",
              "      <td>4801943</td>\n",
              "      <td>1786875</td>\n",
              "      <td>318481</td>\n",
              "      <td>37.211500</td>\n",
              "      <td>6.632336</td>\n",
              "    </tr>\n",
              "    <tr>\n",
              "      <th>118</th>\n",
              "      <td>2020-05-19</td>\n",
              "      <td>4897492</td>\n",
              "      <td>1838995</td>\n",
              "      <td>323285</td>\n",
              "      <td>37.549730</td>\n",
              "      <td>6.601032</td>\n",
              "    </tr>\n",
              "    <tr>\n",
              "      <th>119</th>\n",
              "      <td>2020-05-20</td>\n",
              "      <td>4996472</td>\n",
              "      <td>1897466</td>\n",
              "      <td>328115</td>\n",
              "      <td>37.976116</td>\n",
              "      <td>6.566934</td>\n",
              "    </tr>\n",
              "  </tbody>\n",
              "</table>\n",
              "</div>"
            ],
            "text/plain": [
              "          Date  Confirmed  Recovered  Deaths  Recovery_rate  Mortality_rate\n",
              "115 2020-05-16    4634068    1693197  311781      36.538027        6.728020\n",
              "116 2020-05-17    4713620    1733963  315185      36.786228        6.686687\n",
              "117 2020-05-18    4801943    1786875  318481      37.211500        6.632336\n",
              "118 2020-05-19    4897492    1838995  323285      37.549730        6.601032\n",
              "119 2020-05-20    4996472    1897466  328115      37.976116        6.566934"
            ]
          },
          "metadata": {
            "tags": []
          },
          "execution_count": 72
        }
      ]
    },
    {
      "cell_type": "code",
      "metadata": {
        "id": "dU14l9RPqDoc",
        "colab_type": "code",
        "outputId": "d0ce724d-17c5-4626-858a-a364afc93dc6",
        "colab": {
          "base_uri": "https://localhost:8080/",
          "height": 71
        }
      },
      "source": [
        "USA = df[df['Country'] == 'US']\n",
        "USA = USA.groupby('Date')['Date','Confirmed','Recovered','Deaths'].sum().reset_index()\n",
        "USA['Recovery_rate'] = (USA['Recovered']/USA['Confirmed'])*100\n",
        "USA['Mortality_rate'] = (USA['Deaths']/USA['Confirmed'])*100"
      ],
      "execution_count": 0,
      "outputs": [
        {
          "output_type": "stream",
          "text": [
            "/usr/local/lib/python3.6/dist-packages/ipykernel_launcher.py:2: FutureWarning: Indexing with multiple keys (implicitly converted to a tuple of keys) will be deprecated, use a list instead.\n",
            "  \n"
          ],
          "name": "stderr"
        }
      ]
    },
    {
      "cell_type": "code",
      "metadata": {
        "id": "pzkwwZjuraw1",
        "colab_type": "code",
        "outputId": "506c865d-3b4d-43a2-a6a4-ced7fe57070a",
        "colab": {
          "base_uri": "https://localhost:8080/",
          "height": 190
        }
      },
      "source": [
        "India = df[df['Country'] == 'India']\n",
        "India = India.groupby('Date')['Date','Confirmed','Recovered','Deaths'].sum().reset_index()\n",
        "India['Recovery_rate'] = (India['Recovered']/India['Confirmed'])*100\n",
        "India['Mortality_rate'] = (India['Deaths']/India['Confirmed'])*100\n",
        "\n",
        "Spain = df[df['Country'] == 'Spain']\n",
        "Spain = Spain.groupby('Date')['Date','Confirmed','Recovered','Deaths'].sum().reset_index()\n",
        "Spain['Recovery_rate'] = (Spain['Recovered']/Spain['Confirmed'])*100\n",
        "Spain['Mortality_rate'] = (Spain['Deaths']/Spain['Confirmed'])*100\n",
        "\n",
        "Italy = df[df['Country'] == 'Italy']\n",
        "Italy = Italy.groupby('Date')['Date','Confirmed','Recovered','Deaths'].sum().reset_index()\n",
        "Italy['Recovery_rate'] = (Italy['Recovered']/Italy['Confirmed'])*100\n",
        "Italy['Mortality_rate'] = (Italy['Deaths']/Italy['Confirmed'])*100\n",
        "\n",
        "Germany = df[df['Country'] == 'Germany']\n",
        "Germany = Germany.groupby('Date')['Date','Confirmed','Recovered','Deaths'].sum().reset_index()\n",
        "Germany['Recovery_rate'] = (Germany['Recovered']/Germany['Confirmed'])*100\n",
        "Germany['Mortality_rate'] = (Germany['Deaths']/Germany['Confirmed'])*100\n",
        "\n",
        "Brazil = df[df['Country'] == 'Brazil']\n",
        "Brazil = Brazil.groupby('Date')['Date','Confirmed','Recovered','Deaths'].sum().reset_index()\n",
        "Brazil['Recovery_rate'] = (Brazil['Recovered']/Brazil['Confirmed'])*100\n",
        "Brazil['Mortality_rate'] = (Brazil['Deaths']/Brazil['Confirmed'])*100\n",
        "\n",
        "Russia = df[df['Country'] == 'Russia']\n",
        "Russia = Russia.groupby('Date')['Date','Confirmed','Recovered','Deaths'].sum().reset_index()\n",
        "Russia['Recovery_rate'] = (Russia['Recovered']/Russia['Confirmed'])*100\n",
        "Russia['Mortality_rate'] = (Russia['Deaths']/Russia['Confirmed'])*100"
      ],
      "execution_count": 0,
      "outputs": [
        {
          "output_type": "stream",
          "text": [
            "/usr/local/lib/python3.6/dist-packages/ipykernel_launcher.py:2: FutureWarning: Indexing with multiple keys (implicitly converted to a tuple of keys) will be deprecated, use a list instead.\n",
            "  \n",
            "/usr/local/lib/python3.6/dist-packages/ipykernel_launcher.py:7: FutureWarning: Indexing with multiple keys (implicitly converted to a tuple of keys) will be deprecated, use a list instead.\n",
            "  import sys\n",
            "/usr/local/lib/python3.6/dist-packages/ipykernel_launcher.py:12: FutureWarning: Indexing with multiple keys (implicitly converted to a tuple of keys) will be deprecated, use a list instead.\n",
            "  if sys.path[0] == '':\n",
            "/usr/local/lib/python3.6/dist-packages/ipykernel_launcher.py:17: FutureWarning: Indexing with multiple keys (implicitly converted to a tuple of keys) will be deprecated, use a list instead.\n",
            "/usr/local/lib/python3.6/dist-packages/ipykernel_launcher.py:22: FutureWarning: Indexing with multiple keys (implicitly converted to a tuple of keys) will be deprecated, use a list instead.\n",
            "/usr/local/lib/python3.6/dist-packages/ipykernel_launcher.py:27: FutureWarning: Indexing with multiple keys (implicitly converted to a tuple of keys) will be deprecated, use a list instead.\n"
          ],
          "name": "stderr"
        }
      ]
    },
    {
      "cell_type": "code",
      "metadata": {
        "id": "4vfzMWgHxgZB",
        "colab_type": "code",
        "colab": {}
      },
      "source": [
        "USA['Day of Outbreak'] = 0\n",
        "India['Day of Outbreak'] = 0\n",
        "Italy['Day of Outbreak'] = 0\n",
        "Russia['Day of Outbreak'] = 0\n",
        "Brazil['Day of Outbreak'] = 0\n",
        "Germany['Day of Outbreak'] = 0\n",
        "Spain['Day of Outbreak'] = 0"
      ],
      "execution_count": 0,
      "outputs": []
    },
    {
      "cell_type": "code",
      "metadata": {
        "id": "E-hdGAUhx1R8",
        "colab_type": "code",
        "outputId": "5e324351-066e-4ea0-ad25-f1503e7b61f2",
        "colab": {
          "base_uri": "https://localhost:8080/",
          "height": 102
        }
      },
      "source": [
        "for i in range(len(USA)):\n",
        "  if USA['Confirmed'][i] > 300:\n",
        "    USA['Day of Outbreak'][i] = USA['Day of Outbreak'][i-1] + 1\n",
        "  else:\n",
        "    USA['Day of Outbreak'] = 0"
      ],
      "execution_count": 0,
      "outputs": [
        {
          "output_type": "stream",
          "text": [
            "/usr/local/lib/python3.6/dist-packages/ipykernel_launcher.py:3: SettingWithCopyWarning: \n",
            "A value is trying to be set on a copy of a slice from a DataFrame\n",
            "\n",
            "See the caveats in the documentation: https://pandas.pydata.org/pandas-docs/stable/user_guide/indexing.html#returning-a-view-versus-a-copy\n",
            "  This is separate from the ipykernel package so we can avoid doing imports until\n"
          ],
          "name": "stderr"
        }
      ]
    },
    {
      "cell_type": "code",
      "metadata": {
        "id": "Rfci7b4eycyA",
        "colab_type": "code",
        "outputId": "0ece675b-8896-4308-b753-5e91e89ee482",
        "colab": {
          "base_uri": "https://localhost:8080/",
          "height": 476
        }
      },
      "source": [
        "for i in range(len(India)):\n",
        "  if India['Confirmed'][i] > 300:\n",
        "    India['Day of Outbreak'][i] = India['Day of Outbreak'][i-1] + 1\n",
        "  else:\n",
        "    India['Day of Outbreak'] = 0\n",
        "\n",
        "for i in range(len(Italy)):\n",
        "  if Italy['Confirmed'][i] > 300:\n",
        "    Italy['Day of Outbreak'][i] = Italy['Day of Outbreak'][i-1] + 1\n",
        "  else:\n",
        "    Italy['Day of Outbreak'] = 0\n",
        "\n",
        "for i in range(len(Germany)):\n",
        "  if Germany['Confirmed'][i] > 300:\n",
        "    Germany['Day of Outbreak'][i] = Germany['Day of Outbreak'][i-1] + 1\n",
        "  else:\n",
        "    Germany['Day of Outbreak'] = 0\n",
        "\n",
        "for i in range(len(Spain)):\n",
        "  if Spain['Confirmed'][i] > 300:\n",
        "    Spain['Day of Outbreak'][i] = Spain['Day of Outbreak'][i-1] + 1\n",
        "  else:\n",
        "    Spain['Day of Outbreak'] = 0\n",
        "\n",
        "for i in range(len(Brazil)):\n",
        "  if Brazil['Confirmed'][i] > 300:\n",
        "    Brazil['Day of Outbreak'][i] = Brazil['Day of Outbreak'][i-1] + 1\n",
        "  else:\n",
        "    Brazil['Day of Outbreak'] = 0\n",
        "\n",
        "for i in range(len(Russia)):\n",
        "  if Russia['Confirmed'][i] > 300:\n",
        "    Russia['Day of Outbreak'][i] = Russia['Day of Outbreak'][i-1] + 1\n",
        "  else:\n",
        "    Russia['Day of Outbreak'] = 0"
      ],
      "execution_count": 0,
      "outputs": [
        {
          "output_type": "stream",
          "text": [
            "/usr/local/lib/python3.6/dist-packages/ipykernel_launcher.py:3: SettingWithCopyWarning: \n",
            "A value is trying to be set on a copy of a slice from a DataFrame\n",
            "\n",
            "See the caveats in the documentation: https://pandas.pydata.org/pandas-docs/stable/user_guide/indexing.html#returning-a-view-versus-a-copy\n",
            "  This is separate from the ipykernel package so we can avoid doing imports until\n",
            "/usr/local/lib/python3.6/dist-packages/ipykernel_launcher.py:9: SettingWithCopyWarning: \n",
            "A value is trying to be set on a copy of a slice from a DataFrame\n",
            "\n",
            "See the caveats in the documentation: https://pandas.pydata.org/pandas-docs/stable/user_guide/indexing.html#returning-a-view-versus-a-copy\n",
            "  if __name__ == '__main__':\n",
            "/usr/local/lib/python3.6/dist-packages/ipykernel_launcher.py:15: SettingWithCopyWarning: \n",
            "A value is trying to be set on a copy of a slice from a DataFrame\n",
            "\n",
            "See the caveats in the documentation: https://pandas.pydata.org/pandas-docs/stable/user_guide/indexing.html#returning-a-view-versus-a-copy\n",
            "  from ipykernel import kernelapp as app\n",
            "/usr/local/lib/python3.6/dist-packages/ipykernel_launcher.py:21: SettingWithCopyWarning: \n",
            "A value is trying to be set on a copy of a slice from a DataFrame\n",
            "\n",
            "See the caveats in the documentation: https://pandas.pydata.org/pandas-docs/stable/user_guide/indexing.html#returning-a-view-versus-a-copy\n",
            "/usr/local/lib/python3.6/dist-packages/ipykernel_launcher.py:27: SettingWithCopyWarning: \n",
            "A value is trying to be set on a copy of a slice from a DataFrame\n",
            "\n",
            "See the caveats in the documentation: https://pandas.pydata.org/pandas-docs/stable/user_guide/indexing.html#returning-a-view-versus-a-copy\n",
            "/usr/local/lib/python3.6/dist-packages/ipykernel_launcher.py:33: SettingWithCopyWarning: \n",
            "A value is trying to be set on a copy of a slice from a DataFrame\n",
            "\n",
            "See the caveats in the documentation: https://pandas.pydata.org/pandas-docs/stable/user_guide/indexing.html#returning-a-view-versus-a-copy\n"
          ],
          "name": "stderr"
        }
      ]
    },
    {
      "cell_type": "code",
      "metadata": {
        "id": "muBcQSz6s2U6",
        "colab_type": "code",
        "outputId": "f5677f80-81b9-4969-b98f-500d833677bf",
        "colab": {
          "base_uri": "https://localhost:8080/",
          "height": 615
        }
      },
      "source": [
        "import matplotlib.pyplot as plt\n",
        "%matplotlib inline\n",
        "plt.figure(figsize=(16,10))\n",
        "#plt.plot(USA['Day of Outbreak'],USA['Recovery_rate'],label='USA')\n",
        "plt.plot(India['Day of Outbreak'],India['Recovery_rate'],label='India')\n",
        "plt.plot(Italy['Day of Outbreak'],Italy['Recovery_rate'],label='Italy')\n",
        "plt.plot(Germany['Day of Outbreak'],Germany['Recovery_rate'],label='Germany')\n",
        "plt.plot(Spain['Day of Outbreak'],Spain['Recovery_rate'],label='Spain')\n",
        "#plt.plot(Brazil['Day of Outbreak'],Brazil['Recovery_rate'],label='Brazil')\n",
        "#plt.plot(Russia['Day of Outbreak'],Russia['Recovery_rate'],label='Russia')\n",
        "\n",
        "#plt.xlim(10,80)\n",
        "plt.xlabel('Day of Outbreak',fontsize=20)\n",
        "plt.ylabel('Recovery Rate',fontsize=20)\n",
        "plt.legend()\n",
        "plt.show()"
      ],
      "execution_count": 0,
      "outputs": [
        {
          "output_type": "display_data",
          "data": {
            "image/png": "[encoded data removed]",
            "text/plain": [
              "<Figure size 1152x720 with 1 Axes>"
            ]
          },
          "metadata": {
            "tags": [],
            "needs_background": "light"
          }
        }
      ]
    },
    {
      "cell_type": "code",
      "metadata": {
        "id": "O1RiS_w6wbuO",
        "colab_type": "code",
        "outputId": "80a3891b-e81f-492c-b7e4-cd17da31ef8b",
        "colab": {
          "base_uri": "https://localhost:8080/",
          "height": 204
        }
      },
      "source": [
        "India.head()"
      ],
      "execution_count": 0,
      "outputs": [
        {
          "output_type": "execute_result",
          "data": {
            "text/html": [
              "<div>\n",
              "<style scoped>\n",
              "    .dataframe tbody tr th:only-of-type {\n",
              "        vertical-align: middle;\n",
              "    }\n",
              "\n",
              "    .dataframe tbody tr th {\n",
              "        vertical-align: top;\n",
              "    }\n",
              "\n",
              "    .dataframe thead th {\n",
              "        text-align: right;\n",
              "    }\n",
              "</style>\n",
              "<table border=\"1\" class=\"dataframe\">\n",
              "  <thead>\n",
              "    <tr style=\"text-align: right;\">\n",
              "      <th></th>\n",
              "      <th>Date</th>\n",
              "      <th>Confirmed</th>\n",
              "      <th>Recovered</th>\n",
              "      <th>Deaths</th>\n",
              "      <th>Recovery_rate</th>\n",
              "      <th>Mortality_rate</th>\n",
              "      <th>Day of Outbreak</th>\n",
              "    </tr>\n",
              "  </thead>\n",
              "  <tbody>\n",
              "    <tr>\n",
              "      <th>0</th>\n",
              "      <td>2020-01-22</td>\n",
              "      <td>0</td>\n",
              "      <td>0</td>\n",
              "      <td>0</td>\n",
              "      <td>NaN</td>\n",
              "      <td>NaN</td>\n",
              "      <td>0</td>\n",
              "    </tr>\n",
              "    <tr>\n",
              "      <th>1</th>\n",
              "      <td>2020-01-23</td>\n",
              "      <td>0</td>\n",
              "      <td>0</td>\n",
              "      <td>0</td>\n",
              "      <td>NaN</td>\n",
              "      <td>NaN</td>\n",
              "      <td>0</td>\n",
              "    </tr>\n",
              "    <tr>\n",
              "      <th>2</th>\n",
              "      <td>2020-01-24</td>\n",
              "      <td>0</td>\n",
              "      <td>0</td>\n",
              "      <td>0</td>\n",
              "      <td>NaN</td>\n",
              "      <td>NaN</td>\n",
              "      <td>0</td>\n",
              "    </tr>\n",
              "    <tr>\n",
              "      <th>3</th>\n",
              "      <td>2020-01-25</td>\n",
              "      <td>0</td>\n",
              "      <td>0</td>\n",
              "      <td>0</td>\n",
              "      <td>NaN</td>\n",
              "      <td>NaN</td>\n",
              "      <td>0</td>\n",
              "    </tr>\n",
              "    <tr>\n",
              "      <th>4</th>\n",
              "      <td>2020-01-26</td>\n",
              "      <td>0</td>\n",
              "      <td>0</td>\n",
              "      <td>0</td>\n",
              "      <td>NaN</td>\n",
              "      <td>NaN</td>\n",
              "      <td>0</td>\n",
              "    </tr>\n",
              "  </tbody>\n",
              "</table>\n",
              "</div>"
            ],
            "text/plain": [
              "        Date  Confirmed  ...  Mortality_rate  Day of Outbreak\n",
              "0 2020-01-22          0  ...             NaN                0\n",
              "1 2020-01-23          0  ...             NaN                0\n",
              "2 2020-01-24          0  ...             NaN                0\n",
              "3 2020-01-25          0  ...             NaN                0\n",
              "4 2020-01-26          0  ...             NaN                0\n",
              "\n",
              "[5 rows x 7 columns]"
            ]
          },
          "metadata": {
            "tags": []
          },
          "execution_count": 79
        }
      ]
    },
    {
      "cell_type": "code",
      "metadata": {
        "id": "dQdVQ_nzBqyA",
        "colab_type": "code",
        "outputId": "e7050124-00d0-4d3a-e884-3c59aec3f923",
        "colab": {
          "base_uri": "https://localhost:8080/",
          "height": 102
        }
      },
      "source": [
        "India['New Cases'] = 0\n",
        "for i in range(0,len(India)-1):\n",
        "  India['New Cases'][i+1] = India['Confirmed'][i+1] - India['Confirmed'][i]"
      ],
      "execution_count": 0,
      "outputs": [
        {
          "output_type": "stream",
          "text": [
            "/usr/local/lib/python3.6/dist-packages/ipykernel_launcher.py:3: SettingWithCopyWarning: \n",
            "A value is trying to be set on a copy of a slice from a DataFrame\n",
            "\n",
            "See the caveats in the documentation: https://pandas.pydata.org/pandas-docs/stable/user_guide/indexing.html#returning-a-view-versus-a-copy\n",
            "  This is separate from the ipykernel package so we can avoid doing imports until\n"
          ],
          "name": "stderr"
        }
      ]
    },
    {
      "cell_type": "code",
      "metadata": {
        "id": "8BCRxaO4F6Lg",
        "colab_type": "code",
        "colab": {}
      },
      "source": [
        "USA['New Cases'] = 0"
      ],
      "execution_count": 0,
      "outputs": []
    },
    {
      "cell_type": "code",
      "metadata": {
        "id": "qhUwJaQCB733",
        "colab_type": "code",
        "outputId": "804c2ae0-c337-4aba-d180-da1674798f85",
        "colab": {
          "base_uri": "https://localhost:8080/",
          "height": 187
        }
      },
      "source": [
        "USA['New Cases'][0] = 1\n",
        "for i in range(0,len(USA)-1):\n",
        "  USA['New Cases'][i+1] = USA['Confirmed'][i+1] - USA['Confirmed'][i]"
      ],
      "execution_count": 0,
      "outputs": [
        {
          "output_type": "stream",
          "text": [
            "/usr/local/lib/python3.6/dist-packages/ipykernel_launcher.py:1: SettingWithCopyWarning: \n",
            "A value is trying to be set on a copy of a slice from a DataFrame\n",
            "\n",
            "See the caveats in the documentation: https://pandas.pydata.org/pandas-docs/stable/user_guide/indexing.html#returning-a-view-versus-a-copy\n",
            "  \"\"\"Entry point for launching an IPython kernel.\n",
            "/usr/local/lib/python3.6/dist-packages/ipykernel_launcher.py:3: SettingWithCopyWarning: \n",
            "A value is trying to be set on a copy of a slice from a DataFrame\n",
            "\n",
            "See the caveats in the documentation: https://pandas.pydata.org/pandas-docs/stable/user_guide/indexing.html#returning-a-view-versus-a-copy\n",
            "  This is separate from the ipykernel package so we can avoid doing imports until\n"
          ],
          "name": "stderr"
        }
      ]
    },
    {
      "cell_type": "code",
      "metadata": {
        "id": "jNCQ4H8sGPIJ",
        "colab_type": "code",
        "colab": {}
      },
      "source": [
        "Italy['New Cases'] = 0\n",
        "Russia['New Cases'] = 0\n",
        "Spain['New Cases'] = 0\n",
        "Brazil['New Cases'] = 0\n",
        "Germany['New Cases'] = 0"
      ],
      "execution_count": 0,
      "outputs": []
    },
    {
      "cell_type": "code",
      "metadata": {
        "id": "lWdWl5jhGvuY",
        "colab_type": "code",
        "outputId": "d7069bfd-293e-4b58-dc03-afb6ad45e5f3",
        "colab": {
          "base_uri": "https://localhost:8080/",
          "height": 442
        }
      },
      "source": [
        "for i in range(0,len(Italy)-1):\n",
        "  Italy['New Cases'][i+1] = Italy['Confirmed'][i+1] - Italy['Confirmed'][i]\n",
        "\n",
        "for i in range(0,len(Germany)-1):\n",
        "  Germany['New Cases'][i+1] = Germany['Confirmed'][i+1] - Germany['Confirmed'][i]\n",
        "\n",
        "for i in range(0,len(Spain)-1):\n",
        "  Spain['New Cases'][i+1] = Spain['Confirmed'][i+1] - Spain['Confirmed'][i]\n",
        "\n",
        "for i in range(0,len(Russia)-1):\n",
        "  Russia['New Cases'][i+1] = Russia['Confirmed'][i+1] - Russia['Confirmed'][i]\n",
        "\n",
        "for i in range(0,len(Brazil)-1):\n",
        "  Brazil['New Cases'][i+1] = Brazil['Confirmed'][i+1] - Brazil['Confirmed'][i]"
      ],
      "execution_count": 0,
      "outputs": [
        {
          "output_type": "stream",
          "text": [
            "/usr/local/lib/python3.6/dist-packages/ipykernel_launcher.py:2: SettingWithCopyWarning: \n",
            "A value is trying to be set on a copy of a slice from a DataFrame\n",
            "\n",
            "See the caveats in the documentation: https://pandas.pydata.org/pandas-docs/stable/user_guide/indexing.html#returning-a-view-versus-a-copy\n",
            "  \n",
            "/usr/local/lib/python3.6/dist-packages/ipykernel_launcher.py:5: SettingWithCopyWarning: \n",
            "A value is trying to be set on a copy of a slice from a DataFrame\n",
            "\n",
            "See the caveats in the documentation: https://pandas.pydata.org/pandas-docs/stable/user_guide/indexing.html#returning-a-view-versus-a-copy\n",
            "  \"\"\"\n",
            "/usr/local/lib/python3.6/dist-packages/ipykernel_launcher.py:8: SettingWithCopyWarning: \n",
            "A value is trying to be set on a copy of a slice from a DataFrame\n",
            "\n",
            "See the caveats in the documentation: https://pandas.pydata.org/pandas-docs/stable/user_guide/indexing.html#returning-a-view-versus-a-copy\n",
            "  \n",
            "/usr/local/lib/python3.6/dist-packages/ipykernel_launcher.py:11: SettingWithCopyWarning: \n",
            "A value is trying to be set on a copy of a slice from a DataFrame\n",
            "\n",
            "See the caveats in the documentation: https://pandas.pydata.org/pandas-docs/stable/user_guide/indexing.html#returning-a-view-versus-a-copy\n",
            "  # This is added back by InteractiveShellApp.init_path()\n",
            "/usr/local/lib/python3.6/dist-packages/ipykernel_launcher.py:14: SettingWithCopyWarning: \n",
            "A value is trying to be set on a copy of a slice from a DataFrame\n",
            "\n",
            "See the caveats in the documentation: https://pandas.pydata.org/pandas-docs/stable/user_guide/indexing.html#returning-a-view-versus-a-copy\n",
            "  \n"
          ],
          "name": "stderr"
        }
      ]
    },
    {
      "cell_type": "code",
      "metadata": {
        "id": "ZYBdhgv-G-jb",
        "colab_type": "code",
        "outputId": "0a69b91a-d6ee-43cc-ea87-3e543cac9f2a",
        "colab": {
          "base_uri": "https://localhost:8080/",
          "height": 204
        }
      },
      "source": [
        "USA.tail()"
      ],
      "execution_count": 0,
      "outputs": [
        {
          "output_type": "execute_result",
          "data": {
            "text/html": [
              "<div>\n",
              "<style scoped>\n",
              "    .dataframe tbody tr th:only-of-type {\n",
              "        vertical-align: middle;\n",
              "    }\n",
              "\n",
              "    .dataframe tbody tr th {\n",
              "        vertical-align: top;\n",
              "    }\n",
              "\n",
              "    .dataframe thead th {\n",
              "        text-align: right;\n",
              "    }\n",
              "</style>\n",
              "<table border=\"1\" class=\"dataframe\">\n",
              "  <thead>\n",
              "    <tr style=\"text-align: right;\">\n",
              "      <th></th>\n",
              "      <th>Date</th>\n",
              "      <th>Confirmed</th>\n",
              "      <th>Recovered</th>\n",
              "      <th>Deaths</th>\n",
              "      <th>Recovery_rate</th>\n",
              "      <th>Mortality_rate</th>\n",
              "      <th>Day of Outbreak</th>\n",
              "      <th>New Cases</th>\n",
              "    </tr>\n",
              "  </thead>\n",
              "  <tbody>\n",
              "    <tr>\n",
              "      <th>115</th>\n",
              "      <td>2020-05-16</td>\n",
              "      <td>1467820</td>\n",
              "      <td>268376</td>\n",
              "      <td>88754</td>\n",
              "      <td>18.283986</td>\n",
              "      <td>6.046654</td>\n",
              "      <td>71</td>\n",
              "      <td>24996</td>\n",
              "    </tr>\n",
              "    <tr>\n",
              "      <th>116</th>\n",
              "      <td>2020-05-17</td>\n",
              "      <td>1486757</td>\n",
              "      <td>272265</td>\n",
              "      <td>89562</td>\n",
              "      <td>18.312677</td>\n",
              "      <td>6.023984</td>\n",
              "      <td>72</td>\n",
              "      <td>18937</td>\n",
              "    </tr>\n",
              "    <tr>\n",
              "      <th>117</th>\n",
              "      <td>2020-05-18</td>\n",
              "      <td>1508308</td>\n",
              "      <td>283178</td>\n",
              "      <td>90347</td>\n",
              "      <td>18.774547</td>\n",
              "      <td>5.989957</td>\n",
              "      <td>73</td>\n",
              "      <td>21551</td>\n",
              "    </tr>\n",
              "    <tr>\n",
              "      <th>118</th>\n",
              "      <td>2020-05-19</td>\n",
              "      <td>1528568</td>\n",
              "      <td>289392</td>\n",
              "      <td>91921</td>\n",
              "      <td>18.932229</td>\n",
              "      <td>6.013537</td>\n",
              "      <td>74</td>\n",
              "      <td>20260</td>\n",
              "    </tr>\n",
              "    <tr>\n",
              "      <th>119</th>\n",
              "      <td>2020-05-20</td>\n",
              "      <td>1551853</td>\n",
              "      <td>294312</td>\n",
              "      <td>93439</td>\n",
              "      <td>18.965198</td>\n",
              "      <td>6.021124</td>\n",
              "      <td>75</td>\n",
              "      <td>23285</td>\n",
              "    </tr>\n",
              "  </tbody>\n",
              "</table>\n",
              "</div>"
            ],
            "text/plain": [
              "          Date  Confirmed  ...  Day of Outbreak  New Cases\n",
              "115 2020-05-16    1467820  ...               71      24996\n",
              "116 2020-05-17    1486757  ...               72      18937\n",
              "117 2020-05-18    1508308  ...               73      21551\n",
              "118 2020-05-19    1528568  ...               74      20260\n",
              "119 2020-05-20    1551853  ...               75      23285\n",
              "\n",
              "[5 rows x 8 columns]"
            ]
          },
          "metadata": {
            "tags": []
          },
          "execution_count": 88
        }
      ]
    },
    {
      "cell_type": "code",
      "metadata": {
        "id": "xnMJzByNHBPX",
        "colab_type": "code",
        "outputId": "2b84ab3e-e1a6-437d-c51c-cd75e1839ac9",
        "colab": {
          "base_uri": "https://localhost:8080/",
          "height": 615
        }
      },
      "source": [
        "plt.figure(figsize=(16,10))\n",
        "#plt.plot(USA['Confirmed'],USA['New Cases'],label='USA')\n",
        "plt.plot(India['Confirmed'],India['New Cases'],label='India')\n",
        "plt.plot(Italy['Confirmed'],Italy['New Cases'],label='Italy')\n",
        "plt.plot(Germany['Confirmed'],Germany['New Cases'],label='Germany')\n",
        "#plt.plot(Spain['Confirmed'],Spain['New Cases'],label='Spain')\n",
        "#plt.plot(Brazil['Confirmed'],Brazil['New Cases'],label='Brazil')\n",
        "#plt.plot(Russia['Confirmed'],Russia['New Cases'],label='Russia')\n",
        "\n",
        "plt.xlabel('Total Confirmed Cases',fontsize=20)\n",
        "plt.ylabel('New Cases added',fontsize=20)\n",
        "plt.legend()\n",
        "plt.show()"
      ],
      "execution_count": 0,
      "outputs": [
        {
          "output_type": "display_data",
          "data": {
            "image/png": "[encoded data removed]",
            "text/plain": [
              "<Figure size 1152x720 with 1 Axes>"
            ]
          },
          "metadata": {
            "tags": [],
            "needs_background": "light"
          }
        }
      ]
    },
    {
      "cell_type": "code",
      "metadata": {
        "id": "6cXJH5REIbwK",
        "colab_type": "code",
        "colab": {}
      },
      "source": [
        ""
      ],
      "execution_count": 0,
      "outputs": []
    }
  ]
}